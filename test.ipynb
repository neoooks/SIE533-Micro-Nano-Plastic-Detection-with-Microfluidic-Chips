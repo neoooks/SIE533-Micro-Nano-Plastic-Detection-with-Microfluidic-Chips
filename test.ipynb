{
 "cells": [
  {
   "cell_type": "code",
   "execution_count": null,
   "id": "de41cdfa-16fa-466d-8a36-9f483c867f7d",
   "metadata": {},
   "outputs": [],
   "source": [
    "print(\"sie533 fundamentals of data science\")"
   ]
  }
 ],
 "metadata": {
  "kernelspec": {
   "display_name": "p3workshop",
   "language": "python",
   "name": "p3workshop"
  },
  "language_info": {
   "codemirror_mode": {
    "name": "ipython",
    "version": 3
   },
   "file_extension": ".py",
   "mimetype": "text/x-python",
   "name": "python",
   "nbconvert_exporter": "python",
   "pygments_lexer": "ipython3",
   "version": "3.7.16"
  }
 },
 "nbformat": 4,
 "nbformat_minor": 5
}


